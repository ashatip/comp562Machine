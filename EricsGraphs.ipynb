{
 "cells": [
  {
   "cell_type": "code",
   "execution_count": 2,
   "metadata": {},
   "outputs": [
    {
     "name": "stdout",
     "output_type": "stream",
     "text": [
      "done\n"
     ]
    },
    {
     "data": {
      "image/png": "[encoded data removed]",
      "text/plain": [
       "<Figure size 432x288 with 1 Axes>"
      ]
     },
     "metadata": {},
     "output_type": "display_data"
    }
   ],
   "source": [
    "########################################\n",
    "############## PYTHON 3 ################\n",
    "########################################\n",
    "\n",
    "import csv\n",
    "import matplotlib.pyplot as plt\n",
    "from mpl_toolkits.mplot3d import Axes3D\n",
    "from scipy.interpolate import InterpolatedUnivariateSpline\n",
    "from scipy.interpolate import CubicSpline\n",
    "import numpy as np\n",
    "\n",
    "# CHANGE THIS NUMBER TO REACH THAT SPECIFIC SAMPLE\n",
    "samplenumber = 1;\n",
    "\n",
    "with open('data.txt') as f:\n",
    "\treader = csv.reader(f, delimiter=' ')\n",
    "\t# result=[[float(s) for s in row] for i,row in enumerate(reader) if i%3 == 2]\n",
    "\t#result=[row.strip() for i,row in enumerate(reader) if i < 5]\n",
    "\tfor i in range(3*(samplenumber-1)): # skip the first n samples to reach the sample data we want\n",
    "\t\tnext(reader)\n",
    "\tnext(reader)\n",
    "\tnext(reader)\n",
    "\tcoords = [float(s) for s in next(reader)[:-1]] # skip whitespace at the end\n",
    "\n",
    "print(\"done\")\n",
    "x = coords[::3]\n",
    "y = coords[1::3]\n",
    "z = coords[2::3]\n",
    "\n",
    "\n",
    "\n",
    "fig2d = plt.figure()\n",
    "ax2d = fig2d.add_subplot(111)\n",
    "\n",
    "ax2d.scatter(range(20), x, c='r', label='x')\n",
    "#ax2d.scatter(range(20), y, c='g', label='y')\n",
    "#ax2d.scatter(range(20), z, c='b', label='z')\n",
    "#ax2d.spines['top'].set_color('none')\n",
    "#ax2d.spines['bottom'].set_position('center')\n",
    "plt.axvline(x=0, c='black')\n",
    "plt.axvline(x=19, c='black')\n",
    "\n",
    "\n",
    "# fitx = np.polyfit(range(20), x, 4)\n",
    "# plt.plot(range(20), np.polyval(fitx, range(20)))\n",
    "\n",
    "spl = InterpolatedUnivariateSpline(range(20), x)\n",
    "#spl = UnivariateSpline(range(20), x)\n",
    "#spl.set_smoothing_factor(0)\n",
    "plt.plot(range(20), spl(range(20)), 'g', lw=2)\n",
    "\n",
    "\n",
    "plt.legend(loc='upper left');\n",
    "plt.xlabel('t')\n",
    "plt.show()\n",
    "\n",
    "\n",
    "# PLOT x, Y, Z IN 3D\n",
    "# fig3d = plt.figure()\n",
    "# ax3d = fig3d.add_subplot(111, projection='3d')\n",
    "\n",
    "# ax3d.scatter(x, y, z)\n",
    "\n",
    "# ax3d.set_xlabel('X Label')\n",
    "# ax3d.set_ylabel('Y Label')\n",
    "# ax3d.set_zlabel('Z Label')\n",
    "\n",
    "# plt.show()"
   ]
  },
  {
   "cell_type": "code",
   "execution_count": null,
   "metadata": {},
   "outputs": [],
   "source": []
  }
 ],
 "metadata": {
  "kernelspec": {
   "display_name": "Python 3",
   "language": "python",
   "name": "python3"
  },
  "language_info": {
   "codemirror_mode": {
    "name": "ipython",
    "version": 3
   },
   "file_extension": ".py",
   "mimetype": "text/x-python",
   "name": "python",
   "nbconvert_exporter": "python",
   "pygments_lexer": "ipython3",
   "version": "3.6.5"
  }
 },
 "nbformat": 4,
 "nbformat_minor": 2
}
