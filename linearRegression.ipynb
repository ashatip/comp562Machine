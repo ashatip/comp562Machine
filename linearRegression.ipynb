{
 "cells": [
  {
   "cell_type": "markdown",
   "metadata": {},
   "source": [
    "# Linear regression"
   ]
  },
  {
   "cell_type": "code",
   "execution_count": 2,
   "metadata": {},
   "outputs": [
    {
     "name": "stdout",
     "output_type": "stream",
     "text": [
      "opening file...\n",
      "finished opening\n",
      "Training set: (640000, 7)\n",
      "Testing set:  (160000, 7)\n"
     ]
    }
   ],
   "source": [
    "import csv\n",
    "\n",
    "import tensorflow as tf\n",
    "import sys\n",
    "from tensorflow import keras\n",
    "from sklearn.preprocessing import scale\n",
    "import numpy as np\n",
    "\n",
    "print('opening file...')\n",
    "with open('data/shapemap1000000.txt',\"r\") as f:\n",
    "    myrange = 120000\n",
    "    all_data=[next(f).split() for i in range(myrange)]\n",
    "\n",
    "    # Creating input matrix\n",
    "    myinputs = np.zeros((int(myrange/3)*20, 7))\n",
    "    xcounter = 0\n",
    "    for x in all_data[::3]:\n",
    "        for y in range(0, 20):\n",
    "            myinputs[xcounter][0] = y\n",
    "            myinputs[xcounter][1:7] = [float(i) for i in x]\n",
    "            xcounter += 1\n",
    "    #myinputs = scale(myinputs, axis=0)\n",
    "\n",
    "    coords = np.zeros((int(myrange/3)*20, 3))\n",
    "    counter = 0\n",
    "    for x in all_data[2::3]:\n",
    "        for y in range(0, 20):\n",
    "            coords[counter] = x[y * 3:(y + 1) * 3]\n",
    "            counter += 1\n",
    "    #coords = scale(coords, axis=0)\n",
    "print('finished opening')\n",
    "\n",
    "lastcoord = coords#[:,-3:] # get last three columns\n",
    "\n",
    "def split_data(data, perc): # perc is the percentage value of where the data will split. ie: .8 or .2\n",
    "  splitind = int(len(data)*perc)\n",
    "  return data[:splitind], data[splitind:]\n",
    "\n",
    "train_data, test_data = split_data(myinputs, 0.8)\n",
    "train_labels, test_labels = split_data(lastcoord, 0.8)\n",
    "\n",
    "print(\"Training set: {}\".format(train_data.shape))  # xxx examples, 6 features\n",
    "print(\"Testing set:  {}\".format(test_data.shape))   # xxx examples, 6 features"
   ]
  },
  {
   "cell_type": "markdown",
   "metadata": {},
   "source": [
    "# Training the model"
   ]
  },
  {
   "cell_type": "code",
   "execution_count": 5,
   "metadata": {},
   "outputs": [
    {
     "data": {
      "text/plain": [
       "LinearRegression(copy_X=True, fit_intercept=True, n_jobs=None,\n",
       "         normalize=False)"
      ]
     },
     "execution_count": 5,
     "metadata": {},
     "output_type": "execute_result"
    }
   ],
   "source": [
    "train_dataR, cv_data = split_data(train_data, 0.8)\n",
    "train_labelsR, cv_labels = split_data(train_labels, 0.8)\n",
    "from sklearn.linear_model import LinearRegression\n",
    "\n",
    "lin.fit()"
   ]
  },
  {
   "cell_type": "code",
   "execution_count": 14,
   "metadata": {},
   "outputs": [
    {
     "name": "stderr",
     "output_type": "stream",
     "text": [
      "No handles with labels found to put in legend.\n"
     ]
    },
    {
     "name": "stdout",
     "output_type": "stream",
     "text": [
      "Optimal regularization parameter : 1e-05\n"
     ]
    },
    {
     "data": {
      "image/png": "[encoded data removed]",
      "text/plain": [
       "<Figure size 432x288 with 2 Axes>"
      ]
     },
     "metadata": {
      "needs_background": "light"
     },
     "output_type": "display_data"
    }
   ],
   "source": [
    "import numpy as np\n",
    "from sklearn import linear_model\n",
    "\n",
    "# Compute train and test errors\n",
    "alphas = np.logspace(-5, 1, 60)\n",
    "reg = linear_model.Lasso(alpha=0.1)\n",
    "train_errors = list()\n",
    "cv_errors = list()\n",
    "for alpha in alphas:\n",
    "    reg.set_params(alpha=alpha)\n",
    "    reg.fit(train_dataR,train_labelsR)\n",
    "    train_errors.append(reg.score(train_dataR,train_labelsR))\n",
    "    cv_errors.append(reg.score(cv_data, cv_labels))\n",
    "\n",
    "i_alpha_optim = np.argmax(cv_errors)\n",
    "alpha_optim = alphas[i_alpha_optim]\n",
    "print(\"Optimal regularization parameter : %s\" % alpha_optim)\n",
    "\n",
    "# Estimate the coef_ on full data with optimal regularization parameter\n",
    "reg.set_params(alpha=alpha_optim)\n",
    "#coef_ = reg.fit(myinputs,lastcoord).coef_\n",
    "\n",
    "# #############################################################################\n",
    "# Plot results functions\n",
    "\n",
    "import matplotlib.pyplot as plt\n",
    "plt.subplot(2, 1, 1)\n",
    "plt.semilogx(alphas, train_errors, label='Train')\n",
    "plt.semilogx(alphas, cv_errors, label='Test')\n",
    "plt.vlines(alpha_optim, plt.ylim()[0], np.max(cv_errors), color='k',\n",
    "           linewidth=3, label='Optimum on test')\n",
    "plt.legend(loc='lower left')\n",
    "plt.ylim([0, 2])\n",
    "plt.xlabel('Regularization parameter')\n",
    "plt.ylabel('Performance')\n",
    "\n",
    "# Show estimated coef_ vs true coef\n",
    "plt.subplot(2, 1, 2)\n",
    "#plt.plot(coef, label='True coef')\n",
    "#plt.plot(coef_, label='Estimated coef')\n",
    "plt.legend()\n",
    "plt.subplots_adjust(0.09, 0.04, 0.94, 0.94, 0.26, 0.26)\n",
    "plt.show()"
   ]
  },
  {
   "cell_type": "code",
   "execution_count": 27,
   "metadata": {},
   "outputs": [],
   "source": [
    "reg = linear_model.Lasso(alpha=(1e-05))\n",
    "reg.fit(train_dataR,train_labelsR)\n",
    "trainYpre=reg.predict(train_dataR)\n",
    "cvYpre=reg.predict(cv_data)\n",
    "testYpre=reg.predict(test_data)"
   ]
  },
  {
   "cell_type": "code",
   "execution_count": 28,
   "metadata": {},
   "outputs": [],
   "source": [
    "from sklearn import metrics"
   ]
  },
  {
   "cell_type": "code",
   "execution_count": 30,
   "metadata": {},
   "outputs": [
    {
     "name": "stdout",
     "output_type": "stream",
     "text": [
      "train error:  3.294345672626516e-05\n",
      "cv error:  3.239641631780456e-05\n",
      "test error:  3.29730603509431e-05\n"
     ]
    }
   ],
   "source": [
    "print(\"train error: \",metrics.mean_squared_error(train_labelsR,trainYpre))\n",
    "print(\"cv error: \",metrics.mean_squared_error(cv_labels,cvYpre))\n",
    "print(\"test error: \",metrics.mean_squared_error(test_labels,testYpre))"
   ]
  },
  {
   "cell_type": "code",
   "execution_count": 23,
   "metadata": {},
   "outputs": [
    {
     "data": {
      "text/plain": [
       "0.8880805565749019"
      ]
     },
     "execution_count": 23,
     "metadata": {},
     "output_type": "execute_result"
    }
   ],
   "source": []
  },
  {
   "cell_type": "code",
   "execution_count": null,
   "metadata": {},
   "outputs": [],
   "source": []
  }
 ],
 "metadata": {
  "kernelspec": {
   "display_name": "Python 3",
   "language": "python",
   "name": "python3"
  },
  "language_info": {
   "codemirror_mode": {
    "name": "ipython",
    "version": 3
   },
   "file_extension": ".py",
   "mimetype": "text/x-python",
   "name": "python",
   "nbconvert_exporter": "python",
   "pygments_lexer": "ipython3",
   "version": "3.6.6"
  }
 },
 "nbformat": 4,
 "nbformat_minor": 2
}
