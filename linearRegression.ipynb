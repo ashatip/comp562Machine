{
 "cells": [
  {
   "cell_type": "markdown",
   "metadata": {},
   "source": [
    "# Linear regression"
   ]
  },
  {
   "cell_type": "code",
   "execution_count": 63,
   "metadata": {},
   "outputs": [
    {
     "name": "stdout",
     "output_type": "stream",
     "text": [
      "opening file...\n",
      "finished opening\n",
      "Training set: (800000, 6)\n",
      "Testing set:  (200000, 6)\n"
     ]
    }
   ],
   "source": [
    "import csv\n",
    "\n",
    "import tensorflow as tf\n",
    "import sys\n",
    "from tensorflow import keras\n",
    "from sklearn.preprocessing import scale\n",
    "import numpy as np\n",
    "\n",
    "print('opening file...')\n",
    "with open('data/shapemap1000000.txt',\"r\") as f:\n",
    "    # all_data=[x.split() for x in f.readlines()]\n",
    "    all_data=[next(f).split() for i in range(3000000)]\n",
    "\n",
    "    myinputs = np.array([[float(i) for i in x] for x in all_data[::3]], dtype=float)\n",
    "    myinputs = scale(myinputs, axis=0)\n",
    "\n",
    "    coords = np.array([[float(i) for i in x] for x in all_data[2::3]], dtype=float)\n",
    "    coords = scale(coords, axis=0)\n",
    "print('finished opening')\n",
    "\n",
    "lastcoord = coords[:,-3:] # get last three columns\n",
    "\n",
    "\n",
    "def split_data(data, perc): # perc is the percentage value of where the data will split. ie: .8 or .2\n",
    "  splitind = int(len(data)*perc)\n",
    "  return data[:splitind], data[splitind:]\n",
    "\n",
    "train_data, test_data = split_data(myinputs, 0.8)\n",
    "train_labels, test_labels = split_data(lastcoord, 0.8)\n",
    "\n",
    "\n",
    "print(\"Training set: {}\".format(train_data.shape))  # xxx examples, 6 features\n",
    "print(\"Testing set:  {}\".format(test_data.shape))   # xxx examples, 6 features"
   ]
  },
  {
   "cell_type": "code",
   "execution_count": 64,
   "metadata": {},
   "outputs": [
    {
     "data": {
      "text/plain": [
       "(1000000, 60)"
      ]
     },
     "execution_count": 64,
     "metadata": {},
     "output_type": "execute_result"
    }
   ],
   "source": [
    "coords.shape"
   ]
  },
  {
   "cell_type": "code",
   "execution_count": 68,
   "metadata": {},
   "outputs": [
    {
     "data": {
      "text/plain": [
       "(1000000, 3)"
      ]
     },
     "execution_count": 68,
     "metadata": {},
     "output_type": "execute_result"
    }
   ],
   "source": [
    "lastcoord.shape"
   ]
  },
  {
   "cell_type": "markdown",
   "metadata": {},
   "source": [
    "# Training the model for one point"
   ]
  },
  {
   "cell_type": "code",
   "execution_count": 65,
   "metadata": {},
   "outputs": [],
   "source": [
    "from sklearn.metrics import mean_squared_error\n",
    "from sklearn.linear_model import LinearRegression\n",
    "lin = linear_model.LinearRegression()\n",
    "lin.fit(train_data,train_labels)\n",
    "trainP=lin.predict(train_data)\n",
    "testP=lin.predict(test_data)"
   ]
  },
  {
   "cell_type": "code",
   "execution_count": 66,
   "metadata": {},
   "outputs": [],
   "source": [
    "trainError=mean_squared_error(train_labels,trainP)\n",
    "testError=mean_squared_error(test_labels,testP)"
   ]
  },
  {
   "cell_type": "code",
   "execution_count": 67,
   "metadata": {},
   "outputs": [
    {
     "name": "stdout",
     "output_type": "stream",
     "text": [
      "train error 0.5155467617396944\n",
      "test error 0.5145033519466314\n"
     ]
    }
   ],
   "source": [
    "print(\"train error\",trainError)\n",
    "print(\"test error\",testError)"
   ]
  },
  {
   "cell_type": "markdown",
   "metadata": {},
   "source": [
    "# Training the model for 20 points"
   ]
  },
  {
   "cell_type": "code",
   "execution_count": 72,
   "metadata": {},
   "outputs": [],
   "source": [
    "train_lA, test_lA = split_data(coords, 0.8)"
   ]
  },
  {
   "cell_type": "code",
   "execution_count": 73,
   "metadata": {},
   "outputs": [],
   "source": [
    "lin2 = linear_model.LinearRegression()\n",
    "lin2.fit(train_data,train_lA)\n",
    "trainPa=lin2.predict(train_data)\n",
    "testPa=lin2.predict(test_data)"
   ]
  },
  {
   "cell_type": "code",
   "execution_count": 74,
   "metadata": {},
   "outputs": [
    {
     "name": "stdout",
     "output_type": "stream",
     "text": [
      "train error 0.5092512811043641\n",
      "test error 0.5084721959398293\n"
     ]
    }
   ],
   "source": [
    "trainErrorA=mean_squared_error(train_lA,trainPa)\n",
    "testErrorA=mean_squared_error(test_lA,testPa)\n",
    "print(\"train error\",trainErrorA)\n",
    "print(\"test error\",testErrorA)"
   ]
  },
  {
   "cell_type": "code",
   "execution_count": 76,
   "metadata": {},
   "outputs": [
    {
     "data": {
      "text/plain": [
       "(60, 6)"
      ]
     },
     "execution_count": 76,
     "metadata": {},
     "output_type": "execute_result"
    }
   ],
   "source": [
    "lin2.coef_.shape"
   ]
  },
  {
   "cell_type": "code",
   "execution_count": 56,
   "metadata": {},
   "outputs": [
    {
     "data": {
      "text/plain": [
       "(800000, 3)"
      ]
     },
     "execution_count": 56,
     "metadata": {},
     "output_type": "execute_result"
    }
   ],
   "source": [
    "coords.shape"
   ]
  },
  {
   "cell_type": "code",
   "execution_count": 81,
   "metadata": {},
   "outputs": [
    {
     "data": {
      "text/plain": [
       "array([0., 0., 0.])"
      ]
     },
     "execution_count": 81,
     "metadata": {},
     "output_type": "execute_result"
    }
   ],
   "source": [
    "coords[1,0:3]"
   ]
  },
  {
   "cell_type": "code",
   "execution_count": null,
   "metadata": {},
   "outputs": [],
   "source": [
    "from mpl_toolkits.mplot3d import Axes3D\n",
    "import matplotlib.pyplot as plt\n",
    "import numpy as np\n",
    "\n",
    "\n",
    "fig = plt.figure()\n",
    "ax = fig.add_subplot(111, projection='3d')\n",
    "\n",
    "n = 1000000\n",
    "\n",
    "# For each set of style and range settings, plot n random points in the box\n",
    "# defined by x in [23, 32], y in [0, 100], z in [zlow, zhigh].\n",
    "p=1\n",
    "for i in n:\n",
    "\n",
    "    xs = randrange(n, 23, 32)\n",
    "    ys = randrange(n, 0, 100)\n",
    "    zs = randrange(n, zlow, zhigh)\n",
    "    ax.scatter(xs, ys, zs, c=p, marker=m)\n",
    "\n",
    "ax.set_xlabel('X Label')\n",
    "ax.set_ylabel('Y Label')\n",
    "ax.set_zlabel('Z Label')\n",
    "\n",
    "plt.show()"
   ]
  }
 ],
 "metadata": {
  "kernelspec": {
   "display_name": "Python 3",
   "language": "python",
   "name": "python3"
  },
  "language_info": {
   "codemirror_mode": {
    "name": "ipython",
    "version": 3
   },
   "file_extension": ".py",
   "mimetype": "text/x-python",
   "name": "python",
   "nbconvert_exporter": "python",
   "pygments_lexer": "ipython3",
   "version": "3.6.6"
  }
 },
 "nbformat": 4,
 "nbformat_minor": 2
}
